{
 "cells": [
  {
   "cell_type": "markdown",
   "metadata": {},
   "source": [
    "# 1. S-E-I-R Model"
   ]
  },
  {
   "cell_type": "markdown",
   "metadata": {},
   "source": [
    "SEIR model is a common simulation model in computer simulation of epidemics. This SEIR models people in four states, which are susceptible, exposed, infected, and resistant. People will have their own state at each unit time and each state also represents the amount of people in this state.<br><br>\n",
    "\n",
    "In the study of COVID-19 using SEIR model and Markov Chain, there are assumptions. The first one is that people who recoverd will be immutable. The second assumption is death and birth rate are not considered in this model.<br><br>\n",
    "\n",
    "S - the total amount of susceptible people<br>\n",
    "E - the total amount of exposed people<br>\n",
    "I - the total amount of infected people<br>\n",
    "R - the total amount of recovered people<br><br>\n",
    "\n",
    "The mathmatical expression of SEIR model is described below.<br>\n",
    "\\begin{align*}\n",
    "&\\frac{dS}{dt} = -\\frac{\\beta SI}{N}\\\\\n",
    "&\\frac{dE}{dt} = \\frac{\\beta SI}{N} - \\alpha E\\\\\n",
    "&\\frac{dI}{dt} = \\alpha E - \\lambda I\\\\\n",
    "&\\frac{dR}{dt} = \\lambda I\\\\\n",
    "&N = S + E + I + R\n",
    "\\end{align*}<br><br>\n",
    "\n",
    "SEIR represents people's different states. S represents people who are able to contract with the disease. E represents people who are infected but not yet infectious. I represents people who are infected and infectious. R represents people who are recovered. N represents the total amount of people. $\\beta$ represents the probability that a suscepptible person is infected by a infected person. $\\alpha$ represents the probability that a exposed person becomes infectious. $\\lambda$ represents the probability that a infected person recovered.\n",
    "\n",
    "\n",
    "\n",
    "P_j = \\sum_{i=0}{j = n} P_i * Pij"
   ]
  },
  {
   "cell_type": "markdown",
   "metadata": {},
   "source": [
    "# 2. Markov Chain Model"
   ]
  },
  {
   "cell_type": "markdown",
   "metadata": {},
   "source": [
    "In order to implement and analyse the SEIR model, Markov Chain method is implemented. In this section, COVID-19 progression is assumed to follow a discrete time Markov chain with stationary transition probabilities, which is represented as: ${X(t), t ∈ T}$ with time index set $T ={0,1,…}$ and a finite state space $S ={S_1,S_1,…,S_N}$. The Markov Chain model satisfies the rules that the probability of the random variable X being in the state $S_i$ at time t depends on the X's state at time t-1.<br><br>\n",
    "\n",
    "In the study of COVID-19, $\\sum$ is used to represents the space of all states. A 1-D system is built to represent the state in the Markov Chain Model. Each element in the array, which is of length n, represents a person and the value of the element represents the state of that person.<br><br>\n",
    "\n",
    "In the Markov Chain System, there are $n$ people in the system and they are distributed in a one dimensional array. $\\sum$ is the state space and $\\sigma \\in \\sum$ represents a state. $\\sigma = (g_1,g_2,...,g_nm)$ and $g_i \\in(S,E,I,R)$. $S$ means that the person is susceptible. $E$ represents the person has been exposed but not tested. $I$ means that the person has been infected and tested positive. $R$ means that the person has recovered. In the system, an $n$ array are used to represent people. Each person in the matrix will has their own state, which could be susceptible, exposed, infected or recovered. Then the matrix that contains everyone's state is called a state of Markov Chain.<br><br>\n",
    "\n",
    "A sample state is given below. Assume there are 5 people and an array with length 5 is built.<br><br>\n",
    "\n",
    "\\begin{align*}\n",
    "\\sigma = \\begin{bmatrix}\n",
    "    0&1&2&1&3\n",
    "\\end{bmatrix}\n",
    "\\end{align*}\n",
    "\n",
    "$S=0, E = 1, I = 2, R = 3$.<br><br>"
   ]
  },
  {
   "cell_type": "markdown",
   "metadata": {},
   "source": [
    "# 2.1 Assumptions"
   ]
  },
  {
   "cell_type": "markdown",
   "metadata": {},
   "source": [
    "1. An infected person only infects his adjacent neighbours.<br><br>\n",
    "2. People who recovered from the disease will be immutable."
   ]
  },
  {
   "cell_type": "markdown",
   "metadata": {},
   "source": [
    "# 2.2 State"
   ]
  },
  {
   "cell_type": "markdown",
   "metadata": {},
   "source": [
    "For a 1-D system, there are $n$ people and each person will have 4 posible states. Therefore, the states of Markov Chain model will be $4^n$.<br><br>\n"
   ]
  },
  {
   "cell_type": "code",
   "execution_count": 2,
   "metadata": {},
   "outputs": [],
   "source": [
    "import numpy as np\n",
    "import scipy as sp\n",
    "import scipy.sparse\n",
    "import itertools\n",
    "import matplotlib.pyplot as plt\n",
    "import random"
   ]
  },
  {
   "cell_type": "code",
   "execution_count": 3,
   "metadata": {},
   "outputs": [
    {
     "name": "stdout",
     "output_type": "stream",
     "text": [
      "4\n",
      "There are  4  people in this case. They are distributed in a  4  elements array.\n",
      "\n",
      "There are  256  states.\n",
      "\n"
     ]
    }
   ],
   "source": [
    "# define parameters\n",
    "S = 0\n",
    "E = 1\n",
    "I = 2\n",
    "R = 3\n",
    "n = 4\n",
    "\n",
    "#get possible values of a cell\n",
    "values = list (range(S,R+1));\n",
    "print(len(values))\n",
    "# Generate Sigma\n",
    "sigma = set (itertools.product(values, repeat=n));\n",
    "\n",
    "#print the basic information of this example\n",
    "print (\"There are \", n, \" people in this case. They are distributed in a \",n,\" elements array.\\n\")\n",
    "print (\"There are \",len(sigma),\" states.\\n\")"
   ]
  },
  {
   "cell_type": "code",
   "execution_count": 4,
   "metadata": {},
   "outputs": [],
   "source": [
    "#transfer a matrix to a string\n",
    "def convert_state_to_string (state):\n",
    "    str1 = \"\"   \n",
    "    for ele in state:\n",
    "        ele = int(ele)\n",
    "        str1 += str(ele)  \n",
    "    return str1  \n",
    "    \n",
    "#transfer a string to a matrix\n",
    "def convert_string_to_state (str):\n",
    "    return [int(x) for x in str if x.isdigit()]\n",
    "\n",
    "#generate all the states and save them into a hash map\n",
    "map = {}\n",
    "index2str = {}\n",
    "str2index = {}\n",
    "i = 0\n",
    "for state in sigma:\n",
    "    map[convert_state_to_string(state)] = state\n",
    "    index2str[i] = convert_state_to_string(state)\n",
    "    str2index[convert_state_to_string(state)] = i\n",
    "    i += 1\n",
    "    "
   ]
  },
  {
   "cell_type": "markdown",
   "metadata": {},
   "source": [
    "# 2.3 Transition Matrix"
   ]
  },
  {
   "cell_type": "markdown",
   "metadata": {},
   "source": [
    "The key of Markov Chain Model is the transition matrix and transition matrix is a square matrix. Each column/row is a state. In another word, the matrix will have $4^n$ rows and $4^n$ columns if there are n person in this system. Each element in the transition matrix represents the probability that a state goes to another state.<br><br>\n",
    "\n",
    "The limit of markov chain model is that the problem can not be scaled. In order to compute the transition matrix, the time complexity is $O(4^n)$, which is very expensive. Therefore, it can only be applied to small scale problem.<br><br>\n",
    "\n",
    "Let use A to denote the transition matrix.<br><br>\n",
    "\\begin{align*}\n",
    "A = \\begin{bmatrix}\n",
    "    \\sigma_{1,1}&\\sigma_{1,2}& ... &\\sigma_{1,4^n}\\\\\n",
    "    \\sigma_{2,1}&\\sigma_{2,2}& ... &\\sigma_{2,4^n}\\\\\n",
    "    \\vdots&\\vdots& \\ddots &\\vdots\\\\\n",
    "    \\sigma_{4^n,1}&\\sigma_{4^n,2}& ... &\\sigma_{4^n,4^n}\\\\\n",
    "\\end{bmatrix}\n",
    "\\end{align*}"
   ]
  },
  {
   "cell_type": "markdown",
   "metadata": {},
   "source": [
    "Based on the analysis of real world data, the parameters of the model are predefined. These parameters will be modified inthe future."
   ]
  },
  {
   "cell_type": "code",
   "execution_count": 71,
   "metadata": {},
   "outputs": [],
   "source": [
    "P_E2R = 0.80\n",
    "P_E2I = 1 - P_E2R\n",
    "P_I2R = 0.96\n",
    "P_SByE = 0.8\n",
    "P_SByI = 0.9\n",
    "Trans_Matrix = np.zeros(shape=(len(sigma),len(sigma)))\n",
    "\n",
    "def checkE (i, src):\n",
    "    count = 0\n",
    "    if i != 0:\n",
    "        if (src[i-1] == E):\n",
    "            count += 1\n",
    "    if i != n-1:\n",
    "        if (src[i+1] == E):\n",
    "            count += 1 \n",
    "    return count\n",
    "\n",
    "def checkI (i, src):\n",
    "    count = 0\n",
    "    if i != 0:\n",
    "        if (src[i-1] == I):\n",
    "            count += 1\n",
    "    if i != n-1:\n",
    "        if (src[i+1] == I):\n",
    "            count += 1\n",
    "    return count\n",
    "\n",
    "\n",
    "def get_prob(src, dest, i, prob):\n",
    "    s = src[i]\n",
    "    d = dest[i]\n",
    "    ##check edge case\n",
    "    if s == R and d != R:\n",
    "        prob = 0\n",
    "        return prob\n",
    "    elif s == I and d < I:\n",
    "        prob = 0\n",
    "        return prob\n",
    "    elif s == E and d < E:\n",
    "        prob = 0\n",
    "        return prob\n",
    "    elif s == S and d == R:\n",
    "        prob = 0\n",
    "        return prob\n",
    "    elif s == S and d == I:\n",
    "        prob = 0\n",
    "        return prob\n",
    "\n",
    "    ##check neighbor\n",
    "    countE = checkE(i,src)\n",
    "    countI = checkI(i,src)\n",
    "    if s == R:\n",
    "        prob = prob * 1\n",
    "    elif s == I and d == I:\n",
    "        prob = prob * (1 - P_I2R)\n",
    "    elif s == I and d == R:\n",
    "        prob = prob * P_I2R\n",
    "    elif s == E and d == E:\n",
    "        prob = prob * (1 - P_E2R - P_E2I)\n",
    "    elif s == E and d == I:\n",
    "        prob = prob * P_E2I\n",
    "    elif s == E and d == R:\n",
    "        prob = prob * P_E2R\n",
    "    elif s == S and d == E:\n",
    "        prob = prob * (1-(1-P_SByE)**countE * (1-P_SByI)**countI)\n",
    "    elif s == S and d == S:\n",
    "        prob = prob * (1-P_SByE)**countE * (1-P_SByI)**countI\n",
    "        \n",
    "    return prob\n",
    "\n",
    "#Given conditional probabilities, a transition matrix will be computed.\n",
    "for sc in range(len(sigma)):\n",
    "    for dc in range(len(sigma)):\n",
    "        src = map[index2str[sc]]\n",
    "        dest = map[index2str[dc]]\n",
    "        prob = 1\n",
    "        for i in range(len(src)):\n",
    "            prob = get_prob(src, dest, i, prob)\n",
    "        Trans_Matrix[sc,dc] = prob"
   ]
  },
  {
   "cell_type": "markdown",
   "metadata": {},
   "source": [
    "# 2.4 Markov Chain Simulation"
   ]
  },
  {
   "cell_type": "markdown",
   "metadata": {},
   "source": [
    "\n",
    "Based on the transition matrix, the Markov Chain Simulation can be implemented. <br><br>\n",
    "\n",
    "Initial State: One infected person will be chosen among the n people and will be randomly assign to a position.\n",
    "Steady State: After running many times, the simulation will reach a steady state. <br><br>\n",
    "    \n",
    "The probability matrix at steady state means the probability of the markov chain state. \n",
    "Let use v denote the initial state, which is a $4^n$ vector. A is the transition matrix. S is probability vector at steady state.<br><br>\n",
    "\n",
    "\\begin{align*}\n",
    "S = vA^n\n",
    "\\end{align*}"
   ]
  },
  {
   "cell_type": "code",
   "execution_count": 72,
   "metadata": {},
   "outputs": [],
   "source": [
    "#generate initial state\n",
    "poll = [0] * n\n",
    "for i in range(len(poll)):\n",
    "    poll[i] = i\n",
    "initial_infected = random.choice(poll)\n",
    "temp = [0] * n\n",
    "temp[initial_infected] = 2\n",
    "initial_state_index = str2index[convert_state_to_string(temp)]\n",
    "v = np.zeros(shape=(len(sigma),1))\n",
    "v[initial_state_index] = 1\n",
    "res = v.transpose()\n",
    "#res = v*Trans_Matrix\n",
    "def countInfected(list):\n",
    "    countInf = 0\n",
    "    for i in range(len(list)):\n",
    "        if(list[i] == 1 or list[i] == 2):\n",
    "            countInf += 1 \n",
    "    return countInf\n",
    "        \n",
    "    \n",
    "def unittest_StateBase(days, Trans_Matrix, temp, res):\n",
    "    print(\"Initial State: \",map[convert_state_to_string(temp)])\n",
    "    \n",
    "    tempres = res\n",
    "    dcount = 0\n",
    "    prob_numInf = {}\n",
    "    X_days = [i for i in range(days)]\n",
    "    for i in range(n):\n",
    "        tempArray = [0 for i in range(days)]\n",
    "        prob_numInf[i] = tempArray\n",
    "    \n",
    "    \n",
    "    while dcount < days:\n",
    "        tempres = np.matmul(tempres,Trans_Matrix)\n",
    "\n",
    "        proOfnumInfected = [0 for i in range(n)]\n",
    "        for i in range(len(tempres[0])):  \n",
    "            index = countInfected(map[index2str[i]]) - 1\n",
    "            proOfnumInfected[index] += tempres[0,i]\n",
    "            \n",
    "        for i in range(n):\n",
    "            tempArray = prob_numInf[i]\n",
    "            tempArray[dcount] = proOfnumInfected[i]\n",
    "        dcount += 1\n",
    "    \n",
    "    \n",
    "    for i in range(n):\n",
    "        plt.plot(X_days, prob_numInf[i])\n",
    "    labels = [\"Number of Infected people is: \"+str(i) for i in range(n)]\n",
    "    plt.legend(labels)\n",
    "    \n",
    "    maxState = map[index2str[0]]\n",
    "    maxProb = tempres[0,0]\n",
    "    if (tempres[0,i] > maxProb):\n",
    "        maxState = map[index2str[i]]\n",
    "        maxProb = tempres[0,i]   \n",
    "    \n",
    "    print(\" The most likly state is : \",maxState, \" and the probability: \", maxProb);        \n",
    "        \n",
    "        \n",
    "    \n"
   ]
  },
  {
   "cell_type": "code",
   "execution_count": 77,
   "metadata": {},
   "outputs": [],
   "source": [
    "def countInfected_AllIncluded(list):\n",
    "    countInf = 0\n",
    "    for i in range(len(list)):\n",
    "        if(list[i] > 0):\n",
    "            countInf += 1 \n",
    "    return countInf\n",
    "        \n",
    "    \n",
    "def unittest_AllInfected(days, Trans_Matrix, temp, res):\n",
    "    print(\"Initial State: \",map[convert_state_to_string(temp)])\n",
    "    \n",
    "    tempres = res\n",
    "    dcount = 0\n",
    "    prob_numInf = {}\n",
    "    X_days = [1+i for i in range(days)]\n",
    "    for i in range(n):\n",
    "        tempArray = [0 for i in range(days)]\n",
    "        prob_numInf[i] = tempArray\n",
    "    \n",
    "    \n",
    "    while dcount < days:\n",
    "        tempres = np.matmul(tempres,Trans_Matrix)\n",
    "\n",
    "        proOfnumInfected = [0 for i in range(n)]\n",
    "        for i in range(len(tempres[0])):  \n",
    "            index = countInfected_AllIncluded(map[index2str[i]]) - 1\n",
    "            proOfnumInfected[index] += tempres[0,i]\n",
    "            \n",
    "        for i in range(n):\n",
    "            tempArray = prob_numInf[i]\n",
    "            tempArray[dcount] = proOfnumInfected[i]\n",
    "        dcount += 1\n",
    "    \n",
    "    \n",
    "    for i in range(n):\n",
    "        plt.plot(X_days, prob_numInf[i])\n",
    "    labels = [\"Number of Infected people is: \"+str(i) for i in range(n)]\n",
    "    plt.legend(labels)\n",
    "    \n",
    "    maxState = map[index2str[0]]\n",
    "    maxProb = tempres[0,0]\n",
    "    if (tempres[0,i] > maxProb):\n",
    "        maxState = map[index2str[i]]\n",
    "        maxProb = tempres[0,i]   \n",
    "    \n",
    "    print(\" The most likly state is : \",maxState, \" and the probability: \", maxProb); "
   ]
  },
  {
   "cell_type": "markdown",
   "metadata": {},
   "source": [
    "# 2.5 Analysis"
   ]
  },
  {
   "cell_type": "markdown",
   "metadata": {},
   "source": [
    "The transition matrix is plot below."
   ]
  },
  {
   "cell_type": "code",
   "execution_count": 81,
   "metadata": {},
   "outputs": [
    {
     "data": {
      "text/plain": [
       "<matplotlib.lines.Line2D at 0x11c07b6d8>"
      ]
     },
     "execution_count": 81,
     "metadata": {},
     "output_type": "execute_result"
    },
    {
     "data": {
      "image/png": "[encoded data removed]",
      "text/plain": [
       "<Figure size 432x288 with 1 Axes>"
      ]
     },
     "metadata": {
      "needs_background": "light"
     },
     "output_type": "display_data"
    }
   ],
   "source": [
    "plt.spy (Trans_Matrix, markersize=5, precision=.1)"
   ]
  },
  {
   "cell_type": "markdown",
   "metadata": {},
   "source": [
    "The  steady state is calculated."
   ]
  },
  {
   "cell_type": "code",
   "execution_count": 84,
   "metadata": {},
   "outputs": [
    {
     "name": "stdout",
     "output_type": "stream",
     "text": [
      "Initial State:  (0, 0, 2, 0)\n",
      " The most likly state is :  (0, 2, 0, 1)  and the probability:  0.0\n"
     ]
    },
    {
     "data": {
      "image/png": "[encoded data removed]",
      "text/plain": [
       "<Figure size 432x288 with 1 Axes>"
      ]
     },
     "metadata": {
      "needs_background": "light"
     },
     "output_type": "display_data"
    }
   ],
   "source": [
    "unittest_StateBase(5,Trans_Matrix,temp,res)"
   ]
  },
  {
   "cell_type": "code",
   "execution_count": 85,
   "metadata": {},
   "outputs": [
    {
     "name": "stdout",
     "output_type": "stream",
     "text": [
      "Initial State:  (0, 0, 2, 0)\n",
      " The most likly state is :  (0, 2, 0, 1)  and the probability:  0.0\n"
     ]
    },
    {
     "data": {
      "image/png": "[encoded data removed]",
      "text/plain": [
       "<Figure size 432x288 with 1 Axes>"
      ]
     },
     "metadata": {
      "needs_background": "light"
     },
     "output_type": "display_data"
    }
   ],
   "source": [
    "unittest_AllInfected(5,Trans_Matrix,temp,res)"
   ]
  },
  {
   "cell_type": "code",
   "execution_count": null,
   "metadata": {},
   "outputs": [],
   "source": []
  },
  {
   "cell_type": "code",
   "execution_count": null,
   "metadata": {},
   "outputs": [],
   "source": []
  }
 ],
 "metadata": {
  "kernelspec": {
   "display_name": "Python 3",
   "language": "python",
   "name": "python3"
  },
  "language_info": {
   "codemirror_mode": {
    "name": "ipython",
    "version": 2
   },
   "file_extension": ".py",
   "mimetype": "text/x-python",
   "name": "python",
   "nbconvert_exporter": "python",
   "pygments_lexer": "ipython2",
   "version": "2.7.17"
  }
 },
 "nbformat": 4,
 "nbformat_minor": 2
}
