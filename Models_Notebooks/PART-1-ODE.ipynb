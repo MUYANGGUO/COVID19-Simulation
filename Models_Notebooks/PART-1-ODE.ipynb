{
 "cells": [
  {
   "cell_type": "markdown",
   "metadata": {},
   "source": [
    "## Modeling COVID-19 by continuum dynamical system : SIER system by differential equations\n",
    "\n",
    "### 1. SIR model\n",
    "Different from most infectious dieases, the COVID-19 has a very long incubation period, which can be up to 14 days. During the incubation periods, the patients have no serve symptom, or even no symptom at all, but are still able to deliver the virus to susceptibles. Thus, a traditional susceptible-infected-recovered (SIR) model may not strictly describe the spread of COVID-19. Thus, we introduce the susceptible-exposed-infected-recovered (SEIR) model to simulate the circumstances of the pandemic. \n",
    "\n",
    "We start from the very basic SIR model. In the SIR model, each individual has three distinct states: susceptible, infected, and recovered states. At the very begining, a few individuals in the pool are already infectious, which can be regarded as the seed of the spread, and all the rests are susceptibles. As the spread proceeds, some close contacts of the infectious are infected unfortunately, and the probability of the infection reflects the capbility of the spreading. Some infectious will recover and get the immunity and never get infected any more, while some will loss their lives. However, since the dead cases will no longer affect the distribution of S, I and R groups, and since the fatality rate is not too high to change the overall population, we will not take the death into our model. \n",
    "\n",
    "The continuum model, which is the 'mean field' model, will only care about the overall density of the S, I and R groups without taking a close look at the exact states of individuals. Then, the continuum model will provide a general idea of the spread, so it is a handy method to model a huge population and get the mean behaviour of the spread. On the contrary, since the model is a over-simplified dynamical system, it is not straightforward to describe every details of the real world. Compared with other two methods of our study, the Markov chain and the cellular automaton methods, the dynamical system is not bounded by the size of the pool, which is easily scalable with acceptable compuytational expenses. For another, this method cannot model each cells in the system, so it is not always precise. \n",
    "\n",
    "In SIR model, we first need to define a time-dependent variable for S, I and R state, and the variables are the fraction of the states in the overall population. That is, let\n",
    "\n",
    "- $S_t$ be the fraction of the population that is susceptible at time $t$;\n",
    "- $I_t$ be the fraction that is infected at $t$; and\n",
    "- $R_t$ be the fraction that is recovered at $t$,\n",
    "\n",
    "where $S_t + I_t + R_t = 1$. \n",
    "\n",
    "Besides, there are fundamental parameters defined to describe the behaviour of the virus\n",
    "\n",
    "- $I_t S_t$ measures the fraction of total encounters that can cause disease transmission;\n",
    "- $\\tau$ is a parameter that represents the fraction (or probability) of such encounters transmitting disease in any time step; and\n",
    "- $\\frac{1}{\\kappa}$ is a parameter that represents the fraction (probability) of infected individuals recovering in any time step.\n",
    "\n",
    "Thus, we can formulate the system as a group of differential euqations, and S, I, R are collectively regarded as a vector:\n",
    "$$\n",
    "\\begin{eqnarray}\n",
    "  \\dfrac{d\\vec{y}}{dt}\n",
    "  = \\dfrac{d}{dt}\\left(\\begin{matrix}\n",
    "      S(t) \\\\\n",
    "      I(t) \\\\\n",
    "      R(t)\n",
    "    \\end{matrix}\\right)\n",
    "  & = & \\left(\\begin{matrix}\n",
    "      - \\tau_0 I(t) S(t) \\\\\n",
    "      \\tau_0 S(t) (It) - \\dfrac{1}{\\kappa_0} I(t) \\\\\n",
    "      \\dfrac{1}{\\kappa_0} I(t)\n",
    "    \\end{matrix}\\right)\n",
    "  \\equiv \\vec{F}(\\vec{y}),\n",
    "\\end{eqnarray}\n",
    "$$\n",
    "\n",
    "where $\\vec{y}(t)$ is the state vector and both $\\tau_0$ and $\\kappa_0$ are now rate parameters, having units of \"fractions per unit time.\""
   ]
  },
  {
   "cell_type": "markdown",
   "metadata": {},
   "source": [
    "### 2. Extension to SEIR model\n",
    "\n",
    "Since COVID-19 has a very long incubation period, which makes it hard to handle. And the no-symptom patients is one of the major channel of the spread of the virus. To model the incubation peroid, we introduce another state, exposed (E), to the SIR model, and the modified system is the so-called SEIR model.\n",
    "\n",
    "In SEIR model, the patients who get the virus will first get into the Exposed state. Then, part of the exposed patients will show symptoms and turn to the Infectious state. We use the parameter $\\sigma_0$ to model the transition. Then, the system can be describe as\n",
    "\n",
    "$$\n",
    "\\begin{eqnarray}\n",
    "  \\dfrac{d\\vec{y}}{dt}\n",
    "  = \\dfrac{d}{dt}\\left(\\begin{matrix}\n",
    "      S(t) \\\\\n",
    "      E(t) \\\\\n",
    "      I(t) \\\\\n",
    "      R(t)\n",
    "    \\end{matrix}\\right)\n",
    "  & = & \\left(\\begin{matrix}\n",
    "      - \\tau_0 I(t) S(t) \\\\\n",
    "      \\tau_0 I(t) S(t)- \\sigma_0 E(t) \\\\\n",
    "      \\sigma_0 E(t) - \\dfrac{1}{\\kappa_0} I(t) \\\\\n",
    "      \\dfrac{1}{\\kappa_0} I(t)\n",
    "    \\end{matrix}\\right)\n",
    "  \\equiv \\vec{F}(\\vec{y}),\n",
    "\\end{eqnarray}\n",
    "$$\n",
    "\n",
    "where $\\vec{y}(t)$ is the state vector and both $\\tau_0$, $\\sigma_0$ and $\\kappa_0$ are now rate parameters, having units of \"fractions per unit time.\""
   ]
  },
  {
   "cell_type": "markdown",
   "metadata": {},
   "source": [
    "We first define the function to describe the right hand side of the equations, namely E_seir, and we define x as the vector which contains the infomation of the current states. x has three components, S, E and I, and obviously R can be obtained R = 1- S - E - I "
   ]
  },
  {
   "cell_type": "code",
   "execution_count": 24,
   "metadata": {},
   "outputs": [],
   "source": [
    "import numpy as np\n",
    "import matplotlib.pyplot as plt\n",
    "\n",
    "def F_seir (x, tau, sigma, kappa):\n",
    "    # x = (s, e, i)\n",
    "    x_next = x.copy ()\n",
    "    ### BEGIN SOLUTION\n",
    "    S, E, I = 0, 1, 2\n",
    "    x_next[S] = x[S] * ( - tau*x[I])\n",
    "    x_next[E] = x[S] * tau * x[I] - sigma * x[E]\n",
    "    x_next[I] = sigma * x[E] + x[I] * ( - 1.0/kappa) \n",
    "    ### END SOLUTION\n",
    "    return x_next"
   ]
  },
  {
   "cell_type": "markdown",
   "metadata": {},
   "source": [
    "Then the parameters and initial states are set. Here we assume initially some population are already infectious, and all the others are suspectible. Since As for time steps, we assume the time evenly distributed between 0 and 31, which means our simulation is to reflect the conditions during one month."
   ]
  },
  {
   "cell_type": "code",
   "execution_count": 47,
   "metadata": {},
   "outputs": [],
   "source": [
    "ALPHA = 0.2\n",
    "TAU = 0.9\n",
    "KAPPA = 1.25\n",
    "SIGMA = 5\n",
    "\n",
    "TAU_0 = TAU\n",
    "KAPPA_0 = KAPPA\n",
    "SIGMA_0 = SIGMA\n",
    "\n",
    "# Initial populations, i.e., [S(0), E(0), I(0), R(0)]\n",
    "y0 = np.array ([1.0 - ALPHA, 0., ALPHA, 0.])\n",
    "\n",
    "# Time points at which to compute the solutions:\n",
    "T = np.arange (31).astype (float)"
   ]
  },
  {
   "cell_type": "markdown",
   "metadata": {},
   "source": [
    "Once upon all the equations and initial states are predefined, the following task is to solve the equations. Although formidable to human, the differential equations are easily approachable to python differential equation solvers. Here we use ode_int from scipy library. The algrithm of the solver is way beyound the content of this toturial. We only need to treat it as a automatic solver. The input is the vector of current status with explicit parameters, and it will solve for each time step. We define the function F_seir_ode to convey parameters to the solver. It just exactly looks like F_seir, but it is upon to change if we further introduce other modifications"
   ]
  },
  {
   "cell_type": "code",
   "execution_count": 48,
   "metadata": {},
   "outputs": [],
   "source": [
    "### BEGIN SOLUTION\n",
    "from scipy.integrate import odeint\n",
    "\n",
    "def F_seir_ode (y, t, tau0, kappa0, sigma0):\n",
    "    return F_seir (y, tau0, kappa0, sigma0) \n",
    "\n",
    "############### define the initial states\n",
    "Y = np.zeros ((3, len (T)))\n",
    "Y[:, 0] = y0[:3]\n",
    "\n",
    "Y = odeint (F_seir_ode,\n",
    "            Y[:, 0],\n",
    "            T,\n",
    "            args=(TAU_0, KAPPA_0, SIGMA_0)).T\n",
    "\n",
    "S_ode = Y[0, :]\n",
    "E_ode = Y[1, :]\n",
    "I_ode = Y[2, :]\n",
    "R_ode = 1.0 - S_ode - I_ode - E_ode\n",
    "### END SOLUTION\n"
   ]
  },
  {
   "cell_type": "markdown",
   "metadata": {},
   "source": [
    "Then we define some supporting function to output the solutions of the simulation and visulaization them. Matplotlib is a popular package for plotting, and we can easily observe the results of our results. "
   ]
  },
  {
   "cell_type": "code",
   "execution_count": 49,
   "metadata": {},
   "outputs": [
    {
     "data": {
      "image/png": "[encoded data removed]",
      "text/plain": [
       "<Figure size 864x432 with 1 Axes>"
      ]
     },
     "metadata": {
      "needs_background": "light"
     },
     "output_type": "display_data"
    }
   ],
   "source": [
    "def summarize_sim_ode (S, E, I, T, alpha, tau_0, kappa_0, sigma_0):\n",
    "    t_max = T[-1]\n",
    "    print (\"ODE simulation parameters:\")\n",
    "    print (\"  - t_max = {}\".format (t_max))\n",
    "    print (\"  - alpha = {}\".format (alpha))\n",
    "    print (\"  - tau_0 = {}\".format (tau_0))\n",
    "    print (\"  - kappa_0 = {}\".format (kappa_0))\n",
    "    print (\"\\nResults:\")\n",
    "    print (\"- S_{{{}}} = {:.3f}\".format (t_max, S[-1]))\n",
    "    print (\"- E_{{{}}} = {:.3f}\".format (t_max, E[-1]))\n",
    "    print (\"- I_{{{}}} = {:.3f}\".format (t_max, I[-1]))\n",
    "    print (\"- R_{{{}}} = {:.3f}\".format (t_max, 1-S[-1]-I[-1] -E[-1]))\n",
    "    \n",
    "#summarize_sim_ode (S_ode, I_ode, T, ALPHA, TAU_0, KAPPA_0)\n",
    "\n",
    "def plot_sim_ode (S, E, I, T, alpha, tau, kappa, sigma):\n",
    "    t_max = T[-1]\n",
    "    use_points = len (T) <= 35\n",
    "    plt.plot (T, S, 'ys--' if use_points else 'y-')\n",
    "    plt.plot (T, E, 'r-' if use_points else 'r-')\n",
    "    plt.plot (T, I, 'r*--' if use_points else 'r--')\n",
    "    plt.plot (T, 1. - S - I - E, 'bo--' if use_points else 'b--')\n",
    "    plt.legend (['S', 'E' , 'I', 'R'])\n",
    "    plt.axis ([0, t_max+1, 0, 1])\n",
    "    plt.title (\"alpha = {}, tau = {}, kappa = {}, sigma = {}\".format (alpha, tau, kappa, sigma))\n",
    "        \n",
    "# Figure to compare discrete-time and continuous-time models\n",
    "plt.figure (figsize=(12, 6))\n",
    "plot_sim_ode (S_ode, E_ode, I_ode, T, ALPHA, TAU_0, KAPPA_0, SIGMA_0)\n"
   ]
  },
  {
   "cell_type": "markdown",
   "metadata": {},
   "source": [
    "To better formulate the spread of COVID-19, we need to incorprate the spatial diffusion of the virus. It sill further be studied, and the cellualr automata method will be the most straightforward to achieve that. "
   ]
  },
  {
   "cell_type": "markdown",
   "metadata": {},
   "source": [
    "### 2. Modified SEIR model (upon update)\n",
    "\n",
    "Since the COVID-19 is also infectious during the incubation period, and the exposed cases can also directly recover without performing any symptoms, so we can modified the equations as:\n",
    "\n",
    "$$\n",
    "\\begin{eqnarray}\n",
    "  \\dfrac{d\\vec{y}}{dt}\n",
    "  = \\dfrac{d}{dt}\\left(\\begin{matrix}\n",
    "      S(t) \\\\\n",
    "      E(t) \\\\\n",
    "      I(t) \\\\\n",
    "      R(t)\n",
    "    \\end{matrix}\\right)\n",
    "  & = & \\left(\\begin{matrix}\n",
    "      - \\tau_0 I(t) S(t) \\\\\n",
    "      \\tau_0 I(t) S(t)- \\sigma_0 E(t) - \\gamma_0 E(t) \\\\\n",
    "      \\sigma_0 E(t) - \\dfrac{1}{\\kappa_0} I(t) \\\\\n",
    "      \\dfrac{1}{\\kappa_0} I(t) + \\gamma_0 E(t)\n",
    "    \\end{matrix}\\right)\n",
    "  \\equiv \\vec{F}(\\vec{y}),\n",
    "\\end{eqnarray}\n",
    "$$\n",
    "\n",
    ", where $\\gamma_0 E(t)$ reflects the transition from exposed states to recovered states. We will add this term into our model in our final reports."
   ]
  },
  {
   "cell_type": "code",
   "execution_count": null,
   "metadata": {},
   "outputs": [],
   "source": []
  }
 ],
 "metadata": {
  "kernelspec": {
   "display_name": "Python 3",
   "language": "python",
   "name": "python3"
  },
  "language_info": {
   "codemirror_mode": {
    "name": "ipython",
    "version": 2
   },
   "file_extension": ".py",
   "mimetype": "text/x-python",
   "name": "python",
   "nbconvert_exporter": "python",
   "pygments_lexer": "ipython2",
   "version": "2.7.17"
  }
 },
 "nbformat": 4,
 "nbformat_minor": 2
}
