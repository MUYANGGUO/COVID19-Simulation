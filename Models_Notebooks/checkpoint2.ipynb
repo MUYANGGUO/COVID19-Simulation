{
 "cells": [
  {
   "cell_type": "markdown",
   "metadata": {},
   "source": [
    "# 1. S-E-I-R Model"
   ]
  },
  {
   "cell_type": "raw",
   "metadata": {},
   "source": [
    "SEIR model is a common simulation model in computer simulation of epidemics. This SEIR models people in four states, which are susceptible, exposed, infected, and resistant. People will have their own state at each unit time and each state also represents the amount of people in this state.<br><br>\n",
    "\n",
    "In the study of COVID-19 using SEIR model and Markov Chain, there are assumptions. The first one is that people who recoverd will be immutable. The second assumption is death and birth rate are not considered in this model.<br><br>\n",
    "\n",
    "S - the total amount of susceptible people<br>\n",
    "E - the total amount of exposed people<br>\n",
    "I - the total amount of infected people<br>\n",
    "R - the total amount of recovered people<br><br>\n",
    "\n",
    "The mathmatical expression of SEIR model is described below.<br>\n",
    "\\begin{align*}\n",
    "&\\frac{dS}{dt} = -\\frac{\\beta SI}{N}\\\\\n",
    "&\\frac{dE}{dt} = \\frac{\\beta SI}{N} - \\alpha E\\\\\n",
    "&\\frac{dI}{dt} = \\alpha E - \\lambda I\\\\\n",
    "&\\frac{dR}{dt} = \\lambda I\\\\\n",
    "&N = S + E + I + R\n",
    "\\end{align*}<br><br>\n",
    "\n",
    "SEIR represents people's different states. S represents people who are able to contract with the disease. E represents people who are infected but not yet infectious. I represents people who are infected and infectious. R represents people who are recovered. N represents the total amount of people. $\\beta$ represents the probability that a suscepptible person is infected by a infected person. $\\alpha$ represents the probability that a exposed person becomes infectious. $\\lambda$ represents the probability that a infected person recovered.\n",
    "\n",
    "\n",
    "\n",
    "P_j = \\sum_{i=0}{j = n} P_i * Pij"
   ]
  },
  {
   "cell_type": "markdown",
   "metadata": {},
   "source": [
    "# 2. Markov Chain Model"
   ]
  },
  {
   "cell_type": "raw",
   "metadata": {},
   "source": [
    "In order to implement and analyse the SEIR model, Markov Chain method is implemented. In this section, COVID-19 progression is assumed to follow a discrete time Markov chain with stationary transition probabilities, which is represented as: ${X(t), t ∈ T}$ with time index set $T ={0,1,…}$ and a finite state space $S ={S_1,S_1,…,S_N}$. The Markov Chain model satisfies the rules that the probability of the random variable X being in the state $S_i$ at time t depends on the X's state at time t-1.<br><br>\n",
    "\n",
    "In the study of COVID-19, $\\sum$ is used to represents the space of all states. A 2-D n $\\times$ m system is built to represent the state in the Markov Chain Model. Each element in the n $\\times$ m represents a person and the value of the element represents the state of that person.<br><br>\n",
    "\n",
    "In the Markov Chain System, there are $n\\times m$ people in the system ans they are distributed following the cellular automata model. $\\sum$ is the state space and $\\sigma \\in \\sum$ represents a state. $\\sigma = (g_1,g_2,...,g_nm)$ and $g_i \\in(S,E,I,R)$. $S$ means that the person is susceptible. $E$ represents the person has been exposed. $I$ means that the person has been infected for. $R$ means that the person has recovered. In the system, a $n\\times m$ matrix are used to represent people. Each person in the matrix will has their own state, which could be susceptible, exposed, infected or recovered. Then the matrix that contains everyone's state is called a state of Markov Chain.<br><br>\n",
    "\n",
    "A sample state is given below. Assume there are 9 people and a $3\\times 3$ array is built.<br><br>\n",
    "\n",
    "\\begin{align*}\n",
    "\\sigma = \\begin{bmatrix}\n",
    "    0&2&3\\\\\n",
    "    0&1&0\\\\\n",
    "    0&0&0\n",
    "\\end{bmatrix}\n",
    "\\end{align*}\n",
    "\n",
    "$S=0, E = 1, I = 2, R = 3$.<br><br>"
   ]
  },
  {
   "cell_type": "markdown",
   "metadata": {},
   "source": [
    "# 2.1 Assumptions"
   ]
  },
  {
   "cell_type": "raw",
   "metadata": {},
   "source": [
    "1. An infected person only infects his adjacent neighbours.<br><br>\n",
    "2. People who recovered from the disease will be immutable."
   ]
  },
  {
   "cell_type": "markdown",
   "metadata": {},
   "source": [
    "# 2.2 State"
   ]
  },
  {
   "cell_type": "raw",
   "metadata": {},
   "source": [
    "For a 2-D n $\\times$ m system, there are $n\\times m$ people and each person will have 4 posible states. Therefore, the states of Markov Chain model will be $(n\\times m)^4$.<br><br>\n",
    "\n",
    "These parameters, like K and J, are predefined in the following case. It will be modified according to the dataset of COVID-19.<br>"
   ]
  },
  {
   "cell_type": "code",
   "execution_count": null,
   "metadata": {
    "collapsed": true
   },
   "outputs": [],
   "source": [
    "import numpy as np\n",
    "import scipy as sp\n",
    "import scipy.sparse\n",
    "import itertools\n",
    "import matplotlib.pyplot as plt"
   ]
  },
  {
   "cell_type": "code",
   "execution_count": 1,
   "metadata": {},
   "outputs": [],
   "source": [
    "# define parameters\n",
    "S = 0\n",
    "K = 2\n",
    "J = -3\n",
    "n = 3\n",
    "m = 3\n",
    "\n",
    "#get possible values of a cell\n",
    "values = list (range (J, K+2))\n",
    "print(len(values))\n",
    "# Generate Sigma\n",
    "sigma = set (itertools.product(values, repeat=n*m))\n",
    "\n",
    "#print the basic information of this example\n",
    "print (\"There are \", n*m, \" people in this case. They are discributed as a matrix with \",n, \" rows and \",m,\" columns.\\n\")\n",
    "print (\"There are \",len(sigma),\" states.\\n\")"
   ]
  },
  {
   "cell_type": "code",
   "execution_count": null,
   "metadata": {
    "collapsed": true
   },
   "outputs": [],
   "source": [
    "n = 2\n",
    "m = 2\n",
    "\n",
    "#transfer a matrix to a string\n",
    "def convert_matrix_to_string (matrix):\n",
    "    return matrix.tostring()\n",
    "    \n",
    "    \n",
    "#transfer a string to a matrix\n",
    "def convert_string_to_matrix (str):\n",
    "    return np.fromstring( str ,dtype=int)\n",
    "\n",
    "#generate all the states and save them into a hash map\n"
   ]
  },
  {
   "cell_type": "markdown",
   "metadata": {},
   "source": [
    "# 2.3 Transition Matrix"
   ]
  },
  {
   "cell_type": "raw",
   "metadata": {},
   "source": [
    "The key of Markov Chain Model is the transition matrix and transition matrix is a square matrix. Each column/row is a state. In another word, the matrix will have $(n\\times m)^4$ rows and $(n\\times m)^4$ columns if there are $n\\times m$ person in this system. Each element in the transition matrix represents the probability that a state goes to another state.<br><br>\n",
    "\n",
    "The limit of markov chain model is that the problem can not be scaled. In order to compute the transition matrix, the time complexity is $O((n\\times m)^4)$, which is very expensive. Therefore, it can only be applied to small scale problem.<br><br>\n",
    "\n",
    "Let use A to denote the transition matrix.<br><br>\n",
    "\\begin{align*}\n",
    "A = \\begin{bmatrix}\n",
    "    \\sigma_{1,1}&\\sigma_{1,2}& ... &\\sigma_{1,n\\times m}\\\\\n",
    "    \\sigma_{2,1}&\\sigma_{2,2}& ... &\\sigma_{2,n\\times m}\\\\\n",
    "    \\vdots&\\vdots&\\ddots&\\vdots\\\\\n",
    "    \\sigma_{n\\times m,1}&\\sigma_{n\\times m,2}& ... &\\sigma_{n\\times m,n\\times m}\n",
    "\\end{bmatrix}\n",
    "\\end{align*}"
   ]
  },
  {
   "cell_type": "raw",
   "metadata": {},
   "source": [
    "Based on the analysis of real world data, the parameters of the model are predefined."
   ]
  },
  {
   "cell_type": "code",
   "execution_count": null,
   "metadata": {},
   "outputs": [],
   "source": [
    "#Given conditional probabilities, a transition matrix will be computed.\n",
    "#each state will have two or three or four next states\n",
    "\n",
    "\n"
   ]
  },
  {
   "cell_type": "markdown",
   "metadata": {},
   "source": [
    "# 2.4 Markov Chain Simulation"
   ]
  },
  {
   "cell_type": "raw",
   "metadata": {},
   "source": [
    "Based on the transition matrix, the Markov Chain Simulation can be implemented. <br><br>\n",
    "\n",
    "Initial State: One infected person will be chosen among the nm people and will be randomly assign to a position.\n",
    "Steady State: After running many times, the simulation will reach a steady state. <br><br>\n",
    "    \n",
    "The probability matrix at steady state means the probability of the markov chain state. \n",
    "Let use v denote the initial state, which is a $1\\times nm$ vector. A is the transition matrix. S is probability vector at steady state.<br><br>\n",
    "\n",
    "\\begin{align*}\n",
    "S = vA^n\n",
    "\\end{align*}"
   ]
  },
  {
   "cell_type": "code",
   "execution_count": null,
   "metadata": {},
   "outputs": [],
   "source": [
    "\n",
    "\n",
    "\n"
   ]
  },
  {
   "cell_type": "markdown",
   "metadata": {},
   "source": [
    "# 2.5 Analysis"
   ]
  },
  {
   "cell_type": "raw",
   "metadata": {},
   "source": []
  }
 ],
 "metadata": {
  "kernelspec": {
   "display_name": "Python 3",
   "language": "python",
   "name": "python3"
  },
  "language_info": {
   "codemirror_mode": {
    "name": "ipython",
    "version": 3
   },
   "file_extension": ".py",
   "mimetype": "text/x-python",
   "name": "python",
   "nbconvert_exporter": "python",
   "pygments_lexer": "ipython3",
   "version": "3.7.0"
  }
 },
 "nbformat": 4,
 "nbformat_minor": 2
}
